{
 "cells": [
  {
   "cell_type": "code",
   "execution_count": 56,
   "metadata": {},
   "outputs": [],
   "source": [
    "import numpy as np\n",
    "from ocpmodels.datasets.lmdb_dataset import LmdbDataset\n",
    "from torch_geometric.utils import degree"
   ]
  },
  {
   "cell_type": "code",
   "execution_count": 6,
   "metadata": {},
   "outputs": [],
   "source": [
    "config = {'src': '/media/tannin/82BEC16FBEC15C73/ocpmodels/data/s2ef/2M/train'}"
   ]
  },
  {
   "cell_type": "code",
   "execution_count": 7,
   "metadata": {},
   "outputs": [],
   "source": [
    "dataset = LmdbDataset(config)"
   ]
  },
  {
   "cell_type": "code",
   "execution_count": 65,
   "metadata": {},
   "outputs": [],
   "source": [
    "def get_average_degree(dataset, datapoints=100):\n",
    "    \n",
    "    sum = 0\n",
    "    cnt = 0\n",
    "\n",
    "    for i, data in enumerate(dataset):\n",
    "\n",
    "        if i == datapoints:\n",
    "            break\n",
    "\n",
    "        if i % 1000 == 0:\n",
    "            print('{}/{}'.format(i, len(dataset)))\n",
    "\n",
    "\n",
    "        deg = degree(data.edge_index[0], data.num_nodes)\n",
    "\n",
    "        sum += deg.sum()\n",
    "        cnt += deg.size(0)\n",
    "\n",
    "\n",
    "    return sum / cnt"
   ]
  },
  {
   "cell_type": "code",
   "execution_count": 92,
   "metadata": {},
   "outputs": [],
   "source": [
    "\n",
    "\n",
    "def get_max_Z(dataset, datapoints=100):\n",
    "    \n",
    "    types = set()\n",
    "\n",
    "    for i, data in enumerate(dataset):\n",
    "\n",
    "        if i == datapoints:\n",
    "            break\n",
    "\n",
    "        for _type in data.atomic_numbers.squeeze():\n",
    "            types.add(_type.item())\n",
    "\n",
    "        if i % 100 == 0:\n",
    "            print('{}/{}'.format(i, len(dataset)))\n",
    "            print(len(types))\n",
    "\n"
   ]
  },
  {
   "cell_type": "code",
   "execution_count": 99,
   "metadata": {},
   "outputs": [],
   "source": [
    "def at_num2idx(dataset, datapoints=100000):\n",
    "    at_num2idx = dict()\n",
    "    idx = 0\n",
    "    types = set()\n",
    "\n",
    "    for i, data in enumerate(dataset):\n",
    "            \n",
    "        if i == datapoints or len(types) == 56:\n",
    "            break\n",
    "\n",
    "        for _type in data.atomic_numbers.squeeze():\n",
    "            _type = _type.long().item()\n",
    "            if _type not in types:\n",
    "                at_num2idx[_type] = idx\n",
    "                idx += 1\n",
    "                types.add(_type)\n",
    "\n",
    "    return at_num2idx"
   ]
  },
  {
   "cell_type": "code",
   "execution_count": 100,
   "metadata": {},
   "outputs": [],
   "source": [
    "at_num2idx = at_num2idx(dataset)"
   ]
  },
  {
   "cell_type": "code",
   "execution_count": 101,
   "metadata": {},
   "outputs": [
    {
     "data": {
      "text/plain": [
       "{20: 0,\n",
       " 29: 1,\n",
       " 47: 2,\n",
       " 6: 3,\n",
       " 1: 4,\n",
       " 8: 5,\n",
       " 11: 6,\n",
       " 32: 7,\n",
       " 7: 8,\n",
       " 77: 9,\n",
       " 75: 10,\n",
       " 22: 11,\n",
       " 19: 12,\n",
       " 16: 13,\n",
       " 50: 14,\n",
       " 73: 15,\n",
       " 52: 16,\n",
       " 17: 17,\n",
       " 82: 18,\n",
       " 83: 19,\n",
       " 46: 20,\n",
       " 40: 21,\n",
       " 13: 22,\n",
       " 42: 23,\n",
       " 31: 24,\n",
       " 51: 25,\n",
       " 30: 26,\n",
       " 34: 27,\n",
       " 15: 28,\n",
       " 28: 29,\n",
       " 79: 30,\n",
       " 26: 31,\n",
       " 78: 32,\n",
       " 45: 33,\n",
       " 39: 34,\n",
       " 49: 35,\n",
       " 41: 36,\n",
       " 21: 37,\n",
       " 14: 38,\n",
       " 38: 39,\n",
       " 37: 40,\n",
       " 23: 41,\n",
       " 72: 42,\n",
       " 24: 43,\n",
       " 25: 44,\n",
       " 27: 45,\n",
       " 55: 46,\n",
       " 44: 47,\n",
       " 33: 48,\n",
       " 81: 49,\n",
       " 80: 50,\n",
       " 74: 51,\n",
       " 76: 52,\n",
       " 48: 53,\n",
       " 43: 54,\n",
       " 5: 55}"
      ]
     },
     "execution_count": 101,
     "metadata": {},
     "output_type": "execute_result"
    }
   ],
   "source": [
    "at_num2idx"
   ]
  },
  {
   "cell_type": "code",
   "execution_count": 74,
   "metadata": {},
   "outputs": [
    {
     "name": "stdout",
     "output_type": "stream",
     "text": [
      "0/2000000\n",
      "1000/2000000\n",
      "2000/2000000\n"
     ]
    },
    {
     "ename": "KeyboardInterrupt",
     "evalue": "",
     "output_type": "error",
     "traceback": [
      "\u001b[0;31m---------------------------------------------------------------------------\u001b[0m",
      "\u001b[0;31mKeyboardInterrupt\u001b[0m                         Traceback (most recent call last)",
      "\u001b[1;32m/home/tannin/Desktop/ocp/allegro/computing_ann.ipynb Cell 6'\u001b[0m in \u001b[0;36m<cell line: 1>\u001b[0;34m()\u001b[0m\n\u001b[0;32m----> <a href='vscode-notebook-cell:/home/tannin/Desktop/ocp/allegro/computing_ann.ipynb#ch0000004?line=0'>1</a>\u001b[0m get_average_degree(dataset, datapoints\u001b[39m=\u001b[39;49m\u001b[39m1000000\u001b[39;49m)\n",
      "\u001b[1;32m/home/tannin/Desktop/ocp/allegro/computing_ann.ipynb Cell 4'\u001b[0m in \u001b[0;36mget_average_degree\u001b[0;34m(dataset, datapoints)\u001b[0m\n\u001b[1;32m      <a href='vscode-notebook-cell:/home/tannin/Desktop/ocp/allegro/computing_ann.ipynb#ch0000016?line=2'>3</a>\u001b[0m \u001b[39msum\u001b[39m \u001b[39m=\u001b[39m \u001b[39m0\u001b[39m\n\u001b[1;32m      <a href='vscode-notebook-cell:/home/tannin/Desktop/ocp/allegro/computing_ann.ipynb#ch0000016?line=3'>4</a>\u001b[0m cnt \u001b[39m=\u001b[39m \u001b[39m0\u001b[39m\n\u001b[0;32m----> <a href='vscode-notebook-cell:/home/tannin/Desktop/ocp/allegro/computing_ann.ipynb#ch0000016?line=5'>6</a>\u001b[0m \u001b[39mfor\u001b[39;00m i, data \u001b[39min\u001b[39;00m \u001b[39menumerate\u001b[39m(dataset):\n\u001b[1;32m      <a href='vscode-notebook-cell:/home/tannin/Desktop/ocp/allegro/computing_ann.ipynb#ch0000016?line=7'>8</a>\u001b[0m     \u001b[39mif\u001b[39;00m i \u001b[39m==\u001b[39m datapoints:\n\u001b[1;32m      <a href='vscode-notebook-cell:/home/tannin/Desktop/ocp/allegro/computing_ann.ipynb#ch0000016?line=8'>9</a>\u001b[0m         \u001b[39mbreak\u001b[39;00m\n",
      "File \u001b[0;32m~/Desktop/ocp/ocpmodels/datasets/lmdb_dataset.py:95\u001b[0m, in \u001b[0;36mLmdbDataset.__getitem__\u001b[0;34m(self, idx)\u001b[0m\n\u001b[1;32m     <a href='file:///home/tannin/Desktop/ocp/ocpmodels/datasets/lmdb_dataset.py?line=88'>89</a>\u001b[0m     \u001b[39m# Return features.\u001b[39;00m\n\u001b[1;32m     <a href='file:///home/tannin/Desktop/ocp/ocpmodels/datasets/lmdb_dataset.py?line=89'>90</a>\u001b[0m     datapoint_pickled \u001b[39m=\u001b[39m (\n\u001b[1;32m     <a href='file:///home/tannin/Desktop/ocp/ocpmodels/datasets/lmdb_dataset.py?line=90'>91</a>\u001b[0m         \u001b[39mself\u001b[39m\u001b[39m.\u001b[39menvs[db_idx]\n\u001b[1;32m     <a href='file:///home/tannin/Desktop/ocp/ocpmodels/datasets/lmdb_dataset.py?line=91'>92</a>\u001b[0m         \u001b[39m.\u001b[39mbegin()\n\u001b[1;32m     <a href='file:///home/tannin/Desktop/ocp/ocpmodels/datasets/lmdb_dataset.py?line=92'>93</a>\u001b[0m         \u001b[39m.\u001b[39mget(\u001b[39mf\u001b[39m\u001b[39m\"\u001b[39m\u001b[39m{\u001b[39;00m\u001b[39mself\u001b[39m\u001b[39m.\u001b[39m_keys[db_idx][el_idx]\u001b[39m}\u001b[39;00m\u001b[39m\"\u001b[39m\u001b[39m.\u001b[39mencode(\u001b[39m\"\u001b[39m\u001b[39mascii\u001b[39m\u001b[39m\"\u001b[39m))\n\u001b[1;32m     <a href='file:///home/tannin/Desktop/ocp/ocpmodels/datasets/lmdb_dataset.py?line=93'>94</a>\u001b[0m     )\n\u001b[0;32m---> <a href='file:///home/tannin/Desktop/ocp/ocpmodels/datasets/lmdb_dataset.py?line=94'>95</a>\u001b[0m     data_object \u001b[39m=\u001b[39m pyg2_data_transform(pickle\u001b[39m.\u001b[39;49mloads(datapoint_pickled))\n\u001b[1;32m     <a href='file:///home/tannin/Desktop/ocp/ocpmodels/datasets/lmdb_dataset.py?line=95'>96</a>\u001b[0m     data_object\u001b[39m.\u001b[39mid \u001b[39m=\u001b[39m \u001b[39mf\u001b[39m\u001b[39m\"\u001b[39m\u001b[39m{\u001b[39;00mdb_idx\u001b[39m}\u001b[39;00m\u001b[39m_\u001b[39m\u001b[39m{\u001b[39;00mel_idx\u001b[39m}\u001b[39;00m\u001b[39m\"\u001b[39m\n\u001b[1;32m     <a href='file:///home/tannin/Desktop/ocp/ocpmodels/datasets/lmdb_dataset.py?line=96'>97</a>\u001b[0m \u001b[39melse\u001b[39;00m:\n",
      "\u001b[0;31mKeyboardInterrupt\u001b[0m: "
     ]
    }
   ],
   "source": [
    "get_average_degree(dataset, datapoints=1000000)"
   ]
  },
  {
   "cell_type": "code",
   "execution_count": 71,
   "metadata": {},
   "outputs": [
    {
     "data": {
      "text/plain": [
       "tensor([20., 20., 20., 20., 20., 20., 20., 20., 20., 20., 20., 20., 20., 20.,\n",
       "        20., 20., 20., 20., 20., 20., 20., 20., 20., 20., 20., 20., 20., 20.,\n",
       "        20., 20., 20., 20., 29., 29., 29., 29., 29., 29., 29., 29., 29., 29.,\n",
       "        29., 29., 29., 29., 29., 29., 47., 47., 47., 47., 47., 47., 47., 47.,\n",
       "        47., 47., 47., 47., 47., 47., 47., 47.,  6.,  6.,  1.,  1.,  1.,  1.,\n",
       "         8.])"
      ]
     },
     "execution_count": 71,
     "metadata": {},
     "output_type": "execute_result"
    }
   ],
   "source": [
    "dataset[0].atomic_numbers"
   ]
  },
  {
   "cell_type": "code",
   "execution_count": null,
   "metadata": {},
   "outputs": [],
   "source": []
  }
 ],
 "metadata": {
  "interpreter": {
   "hash": "87d0c183b4ce8d1c51046009f4c5da7cb8c0426d243e154946c7b32c0ede7140"
  },
  "kernelspec": {
   "display_name": "Python 3 (ipykernel)",
   "language": "python",
   "name": "python3"
  },
  "language_info": {
   "codemirror_mode": {
    "name": "ipython",
    "version": 3
   },
   "file_extension": ".py",
   "mimetype": "text/x-python",
   "name": "python",
   "nbconvert_exporter": "python",
   "pygments_lexer": "ipython3",
   "version": "3.9.7"
  }
 },
 "nbformat": 4,
 "nbformat_minor": 2
}
